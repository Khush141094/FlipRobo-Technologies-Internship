{
 "cells": [
  {
   "cell_type": "code",
   "execution_count": 14,
   "id": "90b38f71",
   "metadata": {},
   "outputs": [
    {
     "name": "stderr",
     "output_type": "stream",
     "text": [
      "<ipython-input-14-2b2a91e8e515>:8: DeprecationWarning: executable_path has been deprecated, please pass in a Service object\n",
      "  driver=webdriver.Chrome(r\"C:\\Users\\s0116731\\Downloads\\chromedriver_win32\\chromedriver.exe\")\n"
     ]
    }
   ],
   "source": [
    "import selenium\n",
    "import pandas as pd\n",
    "from selenium import webdriver\n",
    "import time\n",
    "import warnings\n",
    "from selenium.common.exceptions import NoSuchElementException\n",
    "\n",
    "driver=webdriver.Chrome(r\"C:\\Users\\s0116731\\Downloads\\chromedriver_win32\\chromedriver.exe\")\n",
    "driver.get('https://www.ambitionbox.com/profile/data-scientist-salary')\n",
    "time.sleep(5)"
   ]
  },
  {
   "cell_type": "code",
   "execution_count": 46,
   "id": "1ba628d1",
   "metadata": {},
   "outputs": [
    {
     "name": "stderr",
     "output_type": "stream",
     "text": [
      "<ipython-input-46-78482d6ddedb>:6: DeprecationWarning: find_elements_by_xpath is deprecated. Please use find_elements(by=By.XPATH, value=xpath) instead\n",
      "  company_name = driver.find_elements_by_xpath(\"//div[@class='name']//a\")\n",
      "<ipython-input-46-78482d6ddedb>:11: DeprecationWarning: find_elements_by_xpath is deprecated. Please use find_elements(by=By.XPATH, value=xpath) instead\n",
      "  no_of_salary = driver.find_elements_by_xpath(\"//div[@class='name']//span\")\n",
      "<ipython-input-46-78482d6ddedb>:17: DeprecationWarning: find_elements_by_xpath is deprecated. Please use find_elements(by=By.XPATH, value=xpath) instead\n",
      "  avg_ctc = driver.find_elements_by_xpath(\"//p[@class='averageCtc']\")\n",
      "<ipython-input-46-78482d6ddedb>:22: DeprecationWarning: find_elements_by_xpath is deprecated. Please use find_elements(by=By.XPATH, value=xpath) instead\n",
      "  salary = driver.find_elements_by_xpath(\"//div[@class='salary-values']\")\n"
     ]
    },
    {
     "name": "stdout",
     "output_type": "stream",
     "text": [
      "        Company Name Number of Salaries  Average Minimum  Maximum\n",
      "0                TCS                776   ₹ 7.1L  ₹ 3.0L  ₹ 16.0L\n",
      "1          Accenture                461  ₹ 20.0L  ₹ 9.2L  ₹ 42.0L\n",
      "2                IBM                371   ₹ 7.0L  ₹ 3.0L  ₹ 19.2L\n",
      "3          Cognizant                300                          \n",
      "4          Capgemini                288                          \n",
      "5            Infosys                218                          \n",
      "6      Tech Mahindra                213                          \n",
      "7              Wipro                210                          \n",
      "8           Deloitte                154                          \n",
      "9  Fractal Analytics                146   ₹ 7.7L  ₹ 4.5L  ₹ 16.0L\n"
     ]
    }
   ],
   "source": [
    "company_names = []\n",
    "number_of_salaries = []\n",
    "average_salaries = []\n",
    "min_salaries = []\n",
    "max_salaries = []\n",
    "company_name = driver.find_elements_by_xpath(\"//div[@class='name']//a\")\n",
    "for i in company_name:\n",
    "        company_names.append(i.text)\n",
    "\n",
    "\n",
    "no_of_salary = driver.find_elements_by_xpath(\"//div[@class='name']//span\")\n",
    "for i in no_of_salary:\n",
    "        salaries = i.text.split(\" \")\n",
    "        number_of_salaries.append(salaries[0][1:])\n",
    "\n",
    "\n",
    "avg_ctc = driver.find_elements_by_xpath(\"//p[@class='averageCtc']\")\n",
    "for i in avg_ctc:\n",
    "        average_salaries.append(i.text)\n",
    "        \n",
    "\n",
    "salary = driver.find_elements_by_xpath(\"//div[@class='salary-values']\")\n",
    "for i in salary:\n",
    "        salary_array = i.text.split(\"\\n\")\n",
    "        min_salary = salary_array[0]\n",
    "        min_salaries.append(min_salary)\n",
    "        if len(salary_array) > 1:\n",
    "            max_salary = salary_array[1]\n",
    "            max_salaries.append(max_salary)\n",
    "        else:\n",
    "            max_salaries.append(\"\")\n",
    "\n",
    "df=pd.DataFrame({'Company Name':company_names[:10],\n",
    "                'Number of Salaries':number_of_salaries[:10],\n",
    "                'Average':average_salaries[:10],\n",
    "                'Minimum':min_salaries[:10],\n",
    "                'Maximum':max_salaries[:10]})\n",
    "\n",
    "print(df)\n"
   ]
  },
  {
   "cell_type": "code",
   "execution_count": null,
   "id": "08173a88",
   "metadata": {},
   "outputs": [],
   "source": []
  }
 ],
 "metadata": {
  "kernelspec": {
   "display_name": "Python 3",
   "language": "python",
   "name": "python3"
  },
  "language_info": {
   "codemirror_mode": {
    "name": "ipython",
    "version": 3
   },
   "file_extension": ".py",
   "mimetype": "text/x-python",
   "name": "python",
   "nbconvert_exporter": "python",
   "pygments_lexer": "ipython3",
   "version": "3.8.8"
  }
 },
 "nbformat": 4,
 "nbformat_minor": 5
}
