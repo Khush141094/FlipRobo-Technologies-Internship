{
 "cells": [
  {
   "cell_type": "code",
   "execution_count": 1,
   "id": "812e3032",
   "metadata": {},
   "outputs": [
    {
     "name": "stdout",
     "output_type": "stream",
     "text": [
      "Requirement already satisfied: selenium in c:\\users\\s0116731\\anaconda3\\lib\\site-packages (4.1.3)\n",
      "Requirement already satisfied: trio-websocket~=0.9 in c:\\users\\s0116731\\anaconda3\\lib\\site-packages (from selenium) (0.9.2)\n",
      "Requirement already satisfied: urllib3[secure,socks]~=1.26 in c:\\users\\s0116731\\anaconda3\\lib\\site-packages (from selenium) (1.26.4)\n",
      "Requirement already satisfied: trio~=0.17 in c:\\users\\s0116731\\anaconda3\\lib\\site-packages (from selenium) (0.20.0)\n",
      "Requirement already satisfied: sniffio in c:\\users\\s0116731\\anaconda3\\lib\\site-packages (from trio~=0.17->selenium) (1.2.0)\n",
      "Requirement already satisfied: attrs>=19.2.0 in c:\\users\\s0116731\\anaconda3\\lib\\site-packages (from trio~=0.17->selenium) (20.3.0)\n",
      "Requirement already satisfied: cffi>=1.14 in c:\\users\\s0116731\\anaconda3\\lib\\site-packages (from trio~=0.17->selenium) (1.14.5)\n",
      "Requirement already satisfied: outcome in c:\\users\\s0116731\\anaconda3\\lib\\site-packages (from trio~=0.17->selenium) (1.1.0)\n",
      "Requirement already satisfied: sortedcontainers in c:\\users\\s0116731\\anaconda3\\lib\\site-packages (from trio~=0.17->selenium) (2.3.0)\n",
      "Requirement already satisfied: idna in c:\\users\\s0116731\\anaconda3\\lib\\site-packages (from trio~=0.17->selenium) (2.10)\n",
      "Requirement already satisfied: async-generator>=1.9 in c:\\users\\s0116731\\anaconda3\\lib\\site-packages (from trio~=0.17->selenium) (1.10)\n",
      "Requirement already satisfied: pycparser in c:\\users\\s0116731\\anaconda3\\lib\\site-packages (from cffi>=1.14->trio~=0.17->selenium) (2.20)\n",
      "Requirement already satisfied: wsproto>=0.14 in c:\\users\\s0116731\\anaconda3\\lib\\site-packages (from trio-websocket~=0.9->selenium) (1.1.0)\n",
      "Requirement already satisfied: certifi in c:\\users\\s0116731\\anaconda3\\lib\\site-packages (from urllib3[secure,socks]~=1.26->selenium) (2020.12.5)\n",
      "Requirement already satisfied: cryptography>=1.3.4 in c:\\users\\s0116731\\anaconda3\\lib\\site-packages (from urllib3[secure,socks]~=1.26->selenium) (3.4.7)\n",
      "Requirement already satisfied: pyOpenSSL>=0.14 in c:\\users\\s0116731\\anaconda3\\lib\\site-packages (from urllib3[secure,socks]~=1.26->selenium) (20.0.1)\n",
      "Requirement already satisfied: PySocks!=1.5.7,<2.0,>=1.5.6 in c:\\users\\s0116731\\anaconda3\\lib\\site-packages (from urllib3[secure,socks]~=1.26->selenium) (1.7.1)\n",
      "Requirement already satisfied: six>=1.5.2 in c:\\users\\s0116731\\anaconda3\\lib\\site-packages (from pyOpenSSL>=0.14->urllib3[secure,socks]~=1.26->selenium) (1.15.0)\n",
      "Requirement already satisfied: h11<1,>=0.9.0 in c:\\users\\s0116731\\anaconda3\\lib\\site-packages (from wsproto>=0.14->trio-websocket~=0.9->selenium) (0.13.0)\n"
     ]
    }
   ],
   "source": [
    "!pip install selenium"
   ]
  },
  {
   "cell_type": "code",
   "execution_count": 2,
   "id": "b101b881",
   "metadata": {},
   "outputs": [],
   "source": [
    "import selenium\n",
    "import pandas as pd\n",
    "from selenium import webdriver\n",
    "import warnings\n",
    "warnings.filterwarnings(\"ignore\")\n",
    "import time"
   ]
  },
  {
   "cell_type": "code",
   "execution_count": 3,
   "id": "7d8f00aa",
   "metadata": {},
   "outputs": [],
   "source": [
    "driver= webdriver.Chrome(r\"C:\\Users\\s0116731\\Downloads\\chromedriver_win32\\chromedriver.exe\")"
   ]
  },
  {
   "cell_type": "code",
   "execution_count": 38,
   "id": "496cc15b",
   "metadata": {},
   "outputs": [],
   "source": [
    "driver.get('https://www.naukri.com/')"
   ]
  },
  {
   "cell_type": "code",
   "execution_count": 39,
   "id": "927ca126",
   "metadata": {},
   "outputs": [],
   "source": [
    "search_field_designation= driver.find_element_by_class_name(\"suggestor-input\")\n",
    "search_field_designation.send_keys(\"Data Scientist\")\n",
    "search_field_location= driver.find_element_by_xpath('/html/body/div/div[2]/div[3]/div/div/div[3]/div/div/div/input')\n",
    "search_field_location.send_keys(\"Bangalore\")"
   ]
  },
  {
   "cell_type": "code",
   "execution_count": 40,
   "id": "767e6b07",
   "metadata": {},
   "outputs": [],
   "source": [
    "search_button= driver.find_element_by_xpath(\"/html/body/div/div[2]/div[3]/div/div/div[6]\")\n",
    "search_button.click()"
   ]
  },
  {
   "cell_type": "code",
   "execution_count": 41,
   "id": "7adf36f2",
   "metadata": {},
   "outputs": [],
   "source": [
    "url= 'https://www.naukri.com/data-scientist-jobs-in-bangalore?k=data%20scientist&l=bangalore'"
   ]
  },
  {
   "cell_type": "code",
   "execution_count": 43,
   "id": "9067c927",
   "metadata": {},
   "outputs": [],
   "source": [
    "driver.get(url)"
   ]
  },
  {
   "cell_type": "code",
   "execution_count": 44,
   "id": "6ce30352",
   "metadata": {},
   "outputs": [
    {
     "data": {
      "text/plain": [
       "[<selenium.webdriver.remote.webelement.WebElement (session=\"18e5ebd3a06afacb818c22cbcdfd21ea\", element=\"491bd680-cc1f-4eda-b17e-f1e9bf0e77cf\")>,\n",
       " <selenium.webdriver.remote.webelement.WebElement (session=\"18e5ebd3a06afacb818c22cbcdfd21ea\", element=\"c4493194-acd4-466e-a389-e940cd33ef75\")>,\n",
       " <selenium.webdriver.remote.webelement.WebElement (session=\"18e5ebd3a06afacb818c22cbcdfd21ea\", element=\"ea48e681-33f6-4725-bf26-b74ae9c72296\")>,\n",
       " <selenium.webdriver.remote.webelement.WebElement (session=\"18e5ebd3a06afacb818c22cbcdfd21ea\", element=\"e44cfd25-042d-438c-8337-c2d6aaef0667\")>]"
      ]
     },
     "execution_count": 44,
     "metadata": {},
     "output_type": "execute_result"
    }
   ],
   "source": [
    "titles_tags=driver.find_elements_by_xpath(\"//a[@class='title fw500 ellipsis']\")\n",
    "titles_tags[0:4]"
   ]
  },
  {
   "cell_type": "code",
   "execution_count": 45,
   "id": "fe987e73",
   "metadata": {},
   "outputs": [
    {
     "data": {
      "text/plain": [
       "['Data Scientist',\n",
       " 'ASSOCIATE DATA SCIENTIST',\n",
       " 'Data Scientist',\n",
       " 'Data Scientist']"
      ]
     },
     "execution_count": 45,
     "metadata": {},
     "output_type": "execute_result"
    }
   ],
   "source": [
    "job_titles=[]\n",
    "for i in titles_tags:\n",
    "    title=i.text\n",
    "    job_titles.append(title)\n",
    "job_titles[0:4]"
   ]
  },
  {
   "cell_type": "code",
   "execution_count": 46,
   "id": "8fcdc373",
   "metadata": {},
   "outputs": [
    {
     "data": {
      "text/plain": [
       "[<selenium.webdriver.remote.webelement.WebElement (session=\"18e5ebd3a06afacb818c22cbcdfd21ea\", element=\"a9bf36cd-723a-415b-bd72-d49a5ee75578\")>,\n",
       " <selenium.webdriver.remote.webelement.WebElement (session=\"18e5ebd3a06afacb818c22cbcdfd21ea\", element=\"090b1d31-9211-4a4a-9a48-f320e651d013\")>,\n",
       " <selenium.webdriver.remote.webelement.WebElement (session=\"18e5ebd3a06afacb818c22cbcdfd21ea\", element=\"6307df03-86c6-47c5-8895-0ecbdc049b72\")>,\n",
       " <selenium.webdriver.remote.webelement.WebElement (session=\"18e5ebd3a06afacb818c22cbcdfd21ea\", element=\"40b88991-6eab-471e-aff8-261faf5cc5f1\")>]"
      ]
     },
     "execution_count": 46,
     "metadata": {},
     "output_type": "execute_result"
    }
   ],
   "source": [
    "companies_tags=driver.find_elements_by_xpath(\"//a[@class='subTitle ellipsis fleft']\")\n",
    "companies_tags[0:4]"
   ]
  },
  {
   "cell_type": "code",
   "execution_count": 47,
   "id": "8bfed325",
   "metadata": {},
   "outputs": [
    {
     "data": {
      "text/plain": [
       "['Applied Materials',\n",
       " 'Hinduja Global',\n",
       " 'Applied Materials',\n",
       " 'Applied Materials']"
      ]
     },
     "execution_count": 47,
     "metadata": {},
     "output_type": "execute_result"
    }
   ],
   "source": [
    "company_names=[]\n",
    "for i in companies_tags:\n",
    "    company_name=i.text\n",
    "    company_names.append(company_name)\n",
    "company_names[0:4]"
   ]
  },
  {
   "cell_type": "code",
   "execution_count": 48,
   "id": "b27a337e",
   "metadata": {},
   "outputs": [
    {
     "name": "stdout",
     "output_type": "stream",
     "text": [
      "20\n"
     ]
    }
   ],
   "source": [
    "experience_tags=driver.find_elements_by_xpath(\"//li[@class='fleft grey-text br2 placeHolderLi experience']/span[1]\")\n",
    "experience_tags[0:4]\n",
    "print(len(experience_tags))"
   ]
  },
  {
   "cell_type": "code",
   "execution_count": 49,
   "id": "c6bd7757",
   "metadata": {},
   "outputs": [
    {
     "data": {
      "text/plain": [
       "['0-3 Yrs', '1-4 Yrs', '2-4 Yrs', '4-7 Yrs']"
      ]
     },
     "execution_count": 49,
     "metadata": {},
     "output_type": "execute_result"
    }
   ],
   "source": [
    "experience_list=[]\n",
    "for i in experience_tags:\n",
    "    experience=i.text\n",
    "    experience_list.append(experience)\n",
    "experience_list[0:4]"
   ]
  },
  {
   "cell_type": "code",
   "execution_count": 50,
   "id": "1a2d0718",
   "metadata": {},
   "outputs": [
    {
     "data": {
      "text/plain": [
       "[<selenium.webdriver.remote.webelement.WebElement (session=\"18e5ebd3a06afacb818c22cbcdfd21ea\", element=\"120c25c1-3efb-41d5-8e64-dbca4912a471\")>,\n",
       " <selenium.webdriver.remote.webelement.WebElement (session=\"18e5ebd3a06afacb818c22cbcdfd21ea\", element=\"e46a1c3f-877a-4b04-8a3c-d878f1a50c5c\")>,\n",
       " <selenium.webdriver.remote.webelement.WebElement (session=\"18e5ebd3a06afacb818c22cbcdfd21ea\", element=\"817313da-8a74-47b4-b1c1-66b16a9af87d\")>,\n",
       " <selenium.webdriver.remote.webelement.WebElement (session=\"18e5ebd3a06afacb818c22cbcdfd21ea\", element=\"6573c41d-c08e-4024-86bf-ff1efcb7b48f\")>]"
      ]
     },
     "execution_count": 50,
     "metadata": {},
     "output_type": "execute_result"
    }
   ],
   "source": [
    "locations_tags=driver.find_elements_by_xpath(\"//li[@class='fleft grey-text br2 placeHolderLi location']/span[1]\")\n",
    "locations_tags[0:4]"
   ]
  },
  {
   "cell_type": "code",
   "execution_count": 54,
   "id": "7483de2e",
   "metadata": {},
   "outputs": [
    {
     "data": {
      "text/plain": [
       "['Bangalore/Bengaluru',\n",
       " 'Bangalore/Bengaluru',\n",
       " 'Bangalore/Bengaluru',\n",
       " 'Bangalore/Bengaluru']"
      ]
     },
     "execution_count": 54,
     "metadata": {},
     "output_type": "execute_result"
    }
   ],
   "source": [
    "locations_list=[]\n",
    "for i in locations_tags:\n",
    "    location=i.text\n",
    "    locations_list.append(location)\n",
    "locations_list[0:4]"
   ]
  },
  {
   "cell_type": "code",
   "execution_count": 56,
   "id": "f415d3e6",
   "metadata": {},
   "outputs": [
    {
     "name": "stdout",
     "output_type": "stream",
     "text": [
      "20 20 20 20\n"
     ]
    }
   ],
   "source": [
    "print(len(job_titles),len(company_names),len(experience_list),len(locations_list))"
   ]
  },
  {
   "cell_type": "code",
   "execution_count": 57,
   "id": "879875d8",
   "metadata": {},
   "outputs": [
    {
     "data": {
      "text/html": [
       "<div>\n",
       "<style scoped>\n",
       "    .dataframe tbody tr th:only-of-type {\n",
       "        vertical-align: middle;\n",
       "    }\n",
       "\n",
       "    .dataframe tbody tr th {\n",
       "        vertical-align: top;\n",
       "    }\n",
       "\n",
       "    .dataframe thead th {\n",
       "        text-align: right;\n",
       "    }\n",
       "</style>\n",
       "<table border=\"1\" class=\"dataframe\">\n",
       "  <thead>\n",
       "    <tr style=\"text-align: right;\">\n",
       "      <th></th>\n",
       "      <th>title</th>\n",
       "      <th>company</th>\n",
       "      <th>experience_required</th>\n",
       "      <th>location</th>\n",
       "    </tr>\n",
       "  </thead>\n",
       "  <tbody>\n",
       "    <tr>\n",
       "      <th>0</th>\n",
       "      <td>Data Scientist</td>\n",
       "      <td>Applied Materials</td>\n",
       "      <td>0-3 Yrs</td>\n",
       "      <td>Bangalore/Bengaluru</td>\n",
       "    </tr>\n",
       "    <tr>\n",
       "      <th>1</th>\n",
       "      <td>ASSOCIATE DATA SCIENTIST</td>\n",
       "      <td>Hinduja Global</td>\n",
       "      <td>1-4 Yrs</td>\n",
       "      <td>Bangalore/Bengaluru</td>\n",
       "    </tr>\n",
       "    <tr>\n",
       "      <th>2</th>\n",
       "      <td>Data Scientist</td>\n",
       "      <td>Applied Materials</td>\n",
       "      <td>2-4 Yrs</td>\n",
       "      <td>Bangalore/Bengaluru</td>\n",
       "    </tr>\n",
       "    <tr>\n",
       "      <th>3</th>\n",
       "      <td>Data Scientist</td>\n",
       "      <td>Applied Materials</td>\n",
       "      <td>4-7 Yrs</td>\n",
       "      <td>Bangalore/Bengaluru</td>\n",
       "    </tr>\n",
       "    <tr>\n",
       "      <th>4</th>\n",
       "      <td>Manager - Data Scientist Job @ Applied Materia...</td>\n",
       "      <td>Applied Materials</td>\n",
       "      <td>10-15 Yrs</td>\n",
       "      <td>Bangalore/Bengaluru(Whitefield)</td>\n",
       "    </tr>\n",
       "    <tr>\n",
       "      <th>5</th>\n",
       "      <td>Data Scientist/Engineer - Global Telecom Setup</td>\n",
       "      <td>Global Telecom Setup</td>\n",
       "      <td>3-8 Yrs</td>\n",
       "      <td>Hyderabad/Secunderabad, Pune, Bangalore/Bengaluru</td>\n",
       "    </tr>\n",
       "    <tr>\n",
       "      <th>6</th>\n",
       "      <td>Analyst- Data Scientist</td>\n",
       "      <td>Sigma Aldrich</td>\n",
       "      <td>1-4 Yrs</td>\n",
       "      <td>Bangalore/Bengaluru</td>\n",
       "    </tr>\n",
       "    <tr>\n",
       "      <th>7</th>\n",
       "      <td>Data Scientist - Immediate Joiners</td>\n",
       "      <td>Bristlecone</td>\n",
       "      <td>3-8 Yrs</td>\n",
       "      <td>Noida, Mumbai, Pune, Bangalore/Bengaluru</td>\n",
       "    </tr>\n",
       "    <tr>\n",
       "      <th>8</th>\n",
       "      <td>Senior Data Scientist/Data Scientist - Researc...</td>\n",
       "      <td>Hexaconcepts</td>\n",
       "      <td>6-9 Yrs</td>\n",
       "      <td>Bangalore/Bengaluru</td>\n",
       "    </tr>\n",
       "    <tr>\n",
       "      <th>9</th>\n",
       "      <td>Data Scientist</td>\n",
       "      <td>GSK India</td>\n",
       "      <td>4-7 Yrs</td>\n",
       "      <td>Bangalore/Bengaluru</td>\n",
       "    </tr>\n",
       "  </tbody>\n",
       "</table>\n",
       "</div>"
      ],
      "text/plain": [
       "                                               title               company  \\\n",
       "0                                     Data Scientist     Applied Materials   \n",
       "1                           ASSOCIATE DATA SCIENTIST        Hinduja Global   \n",
       "2                                     Data Scientist     Applied Materials   \n",
       "3                                     Data Scientist     Applied Materials   \n",
       "4  Manager - Data Scientist Job @ Applied Materia...     Applied Materials   \n",
       "5     Data Scientist/Engineer - Global Telecom Setup  Global Telecom Setup   \n",
       "6                            Analyst- Data Scientist         Sigma Aldrich   \n",
       "7                 Data Scientist - Immediate Joiners           Bristlecone   \n",
       "8  Senior Data Scientist/Data Scientist - Researc...          Hexaconcepts   \n",
       "9                                     Data Scientist             GSK India   \n",
       "\n",
       "  experience_required                                           location  \n",
       "0             0-3 Yrs                                Bangalore/Bengaluru  \n",
       "1             1-4 Yrs                                Bangalore/Bengaluru  \n",
       "2             2-4 Yrs                                Bangalore/Bengaluru  \n",
       "3             4-7 Yrs                                Bangalore/Bengaluru  \n",
       "4           10-15 Yrs                    Bangalore/Bengaluru(Whitefield)  \n",
       "5             3-8 Yrs  Hyderabad/Secunderabad, Pune, Bangalore/Bengaluru  \n",
       "6             1-4 Yrs                                Bangalore/Bengaluru  \n",
       "7             3-8 Yrs           Noida, Mumbai, Pune, Bangalore/Bengaluru  \n",
       "8             6-9 Yrs                                Bangalore/Bengaluru  \n",
       "9             4-7 Yrs                                Bangalore/Bengaluru  "
      ]
     },
     "execution_count": 57,
     "metadata": {},
     "output_type": "execute_result"
    }
   ],
   "source": [
    "jobs=pd.DataFrame({})\n",
    "jobs['title']= job_titles\n",
    "jobs['company']= company_names\n",
    "jobs['experience_required']= experience_list\n",
    "jobs['location']= locations_list\n",
    "jobs[0:10]"
   ]
  },
  {
   "cell_type": "code",
   "execution_count": null,
   "id": "ccc5df6a",
   "metadata": {},
   "outputs": [],
   "source": []
  },
  {
   "cell_type": "code",
   "execution_count": null,
   "id": "9a44b291",
   "metadata": {},
   "outputs": [],
   "source": []
  }
 ],
 "metadata": {
  "kernelspec": {
   "display_name": "Python 3",
   "language": "python",
   "name": "python3"
  },
  "language_info": {
   "codemirror_mode": {
    "name": "ipython",
    "version": 3
   },
   "file_extension": ".py",
   "mimetype": "text/x-python",
   "name": "python",
   "nbconvert_exporter": "python",
   "pygments_lexer": "ipython3",
   "version": "3.8.8"
  }
 },
 "nbformat": 4,
 "nbformat_minor": 5
}
