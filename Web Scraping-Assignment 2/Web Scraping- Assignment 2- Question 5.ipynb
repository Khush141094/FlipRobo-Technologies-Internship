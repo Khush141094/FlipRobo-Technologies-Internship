{
 "cells": [
  {
   "cell_type": "code",
   "execution_count": 1,
   "id": "59e1afb7",
   "metadata": {},
   "outputs": [
    {
     "name": "stdout",
     "output_type": "stream",
     "text": [
      "Requirement already satisfied: selenium in c:\\users\\s0116731\\anaconda3\\lib\\site-packages (4.1.3)\n",
      "Requirement already satisfied: trio~=0.17 in c:\\users\\s0116731\\anaconda3\\lib\\site-packages (from selenium) (0.20.0)\n",
      "Requirement already satisfied: trio-websocket~=0.9 in c:\\users\\s0116731\\anaconda3\\lib\\site-packages (from selenium) (0.9.2)\n",
      "Requirement already satisfied: urllib3[secure,socks]~=1.26 in c:\\users\\s0116731\\anaconda3\\lib\\site-packages (from selenium) (1.26.4)\n",
      "Requirement already satisfied: idna in c:\\users\\s0116731\\anaconda3\\lib\\site-packages (from trio~=0.17->selenium) (2.10)\n",
      "Requirement already satisfied: sortedcontainers in c:\\users\\s0116731\\anaconda3\\lib\\site-packages (from trio~=0.17->selenium) (2.3.0)\n",
      "Requirement already satisfied: attrs>=19.2.0 in c:\\users\\s0116731\\anaconda3\\lib\\site-packages (from trio~=0.17->selenium) (20.3.0)\n",
      "Requirement already satisfied: cffi>=1.14 in c:\\users\\s0116731\\anaconda3\\lib\\site-packages (from trio~=0.17->selenium) (1.14.5)\n",
      "Requirement already satisfied: outcome in c:\\users\\s0116731\\anaconda3\\lib\\site-packages (from trio~=0.17->selenium) (1.1.0)\n",
      "Requirement already satisfied: sniffio in c:\\users\\s0116731\\anaconda3\\lib\\site-packages (from trio~=0.17->selenium) (1.2.0)\n",
      "Requirement already satisfied: async-generator>=1.9 in c:\\users\\s0116731\\anaconda3\\lib\\site-packages (from trio~=0.17->selenium) (1.10)\n",
      "Requirement already satisfied: pycparser in c:\\users\\s0116731\\anaconda3\\lib\\site-packages (from cffi>=1.14->trio~=0.17->selenium) (2.20)\n",
      "Requirement already satisfied: wsproto>=0.14 in c:\\users\\s0116731\\anaconda3\\lib\\site-packages (from trio-websocket~=0.9->selenium) (1.1.0)\n",
      "Requirement already satisfied: PySocks!=1.5.7,<2.0,>=1.5.6 in c:\\users\\s0116731\\anaconda3\\lib\\site-packages (from urllib3[secure,socks]~=1.26->selenium) (1.7.1)\n",
      "Requirement already satisfied: cryptography>=1.3.4 in c:\\users\\s0116731\\anaconda3\\lib\\site-packages (from urllib3[secure,socks]~=1.26->selenium) (3.4.7)\n",
      "Requirement already satisfied: certifi in c:\\users\\s0116731\\anaconda3\\lib\\site-packages (from urllib3[secure,socks]~=1.26->selenium) (2020.12.5)\n",
      "Requirement already satisfied: pyOpenSSL>=0.14 in c:\\users\\s0116731\\anaconda3\\lib\\site-packages (from urllib3[secure,socks]~=1.26->selenium) (20.0.1)\n",
      "Requirement already satisfied: six>=1.5.2 in c:\\users\\s0116731\\anaconda3\\lib\\site-packages (from pyOpenSSL>=0.14->urllib3[secure,socks]~=1.26->selenium) (1.15.0)\n",
      "Requirement already satisfied: h11<1,>=0.9.0 in c:\\users\\s0116731\\anaconda3\\lib\\site-packages (from wsproto>=0.14->trio-websocket~=0.9->selenium) (0.13.0)\n"
     ]
    }
   ],
   "source": [
    "!pip install selenium"
   ]
  },
  {
   "cell_type": "code",
   "execution_count": 95,
   "id": "f2ea99ab",
   "metadata": {},
   "outputs": [],
   "source": [
    "import selenium\n",
    "import pandas as pd\n",
    "from selenium import webdriver\n",
    "import time\n",
    "import warnings\n",
    "from selenium.common.exceptions import NoSuchElementException"
   ]
  },
  {
   "cell_type": "code",
   "execution_count": 96,
   "id": "ae791b61",
   "metadata": {},
   "outputs": [
    {
     "name": "stderr",
     "output_type": "stream",
     "text": [
      "<ipython-input-96-96773efce35a>:1: DeprecationWarning: executable_path has been deprecated, please pass in a Service object\n",
      "  driver= webdriver.Chrome(r\"C:\\Users\\s0116731\\Downloads\\chromedriver_win32\\chromedriver.exe\")\n"
     ]
    }
   ],
   "source": [
    "driver= webdriver.Chrome(r\"C:\\Users\\s0116731\\Downloads\\chromedriver_win32\\chromedriver.exe\")"
   ]
  },
  {
   "cell_type": "code",
   "execution_count": 97,
   "id": "7b0d01d5",
   "metadata": {},
   "outputs": [
    {
     "name": "stderr",
     "output_type": "stream",
     "text": [
      "<ipython-input-97-c00acd0468e2>:2: DeprecationWarning: find_element_by_xpath is deprecated. Please use find_element(by=By.XPATH, value=xpath) instead\n",
      "  more_review_link = driver.find_element_by_xpath(\"//div[@class='_3UAT2v _16PBlm']\")\n"
     ]
    }
   ],
   "source": [
    "driver.get('https://www.flipkart.com/apple-iphone-11-black-64-gb-includes- earpods-power- adapter/p/itm0f37c2240b217?pid=MOBFKCTSVZAXUHGR&lid=LSTMOBFKC TSVZAXUHGREPBFGI&marketplace.')\n",
    "more_review_link = driver.find_element_by_xpath(\"//div[@class='_3UAT2v _16PBlm']\")\n",
    "more_review_link.click()"
   ]
  },
  {
   "cell_type": "code",
   "execution_count": 98,
   "id": "7d532761",
   "metadata": {},
   "outputs": [
    {
     "name": "stderr",
     "output_type": "stream",
     "text": [
      "<ipython-input-98-cfc044a4cd61>:8: DeprecationWarning: find_elements_by_xpath is deprecated. Please use find_elements(by=By.XPATH, value=xpath) instead\n",
      "  rating_tags=driver.find_elements_by_xpath(\"//div[@class='_3LWZlK _1BLPMq']\")\n",
      "<ipython-input-98-cfc044a4cd61>:15: DeprecationWarning: find_elements_by_xpath is deprecated. Please use find_elements(by=By.XPATH, value=xpath) instead\n",
      "  summary_tags=driver.find_elements_by_xpath(\"//p[@class='_2-N8zT']\")\n",
      "<ipython-input-98-cfc044a4cd61>:20: DeprecationWarning: find_elements_by_xpath is deprecated. Please use find_elements(by=By.XPATH, value=xpath) instead\n",
      "  full_tags=driver.find_elements_by_xpath(\"//div[@class='t-ZTKy']\")\n",
      "<ipython-input-98-cfc044a4cd61>:25: DeprecationWarning: find_element_by_xpath is deprecated. Please use find_element(by=By.XPATH, value=xpath) instead\n",
      "  if driver.find_element_by_xpath(\"//a[@class='_1LKTO3']\"):\n",
      "<ipython-input-98-cfc044a4cd61>:26: DeprecationWarning: find_element_by_xpath is deprecated. Please use find_element(by=By.XPATH, value=xpath) instead\n",
      "  driver.find_element_by_xpath(\"//a[@class='_1LKTO3']\").click()\n"
     ]
    },
    {
     "name": "stdout",
     "output_type": "stream",
     "text": [
      "   Rating       Review Summary  \\\n",
      "0       5            Brilliant   \n",
      "1       5       Simply awesome   \n",
      "2       5  Best in the market!   \n",
      "3       5     Perfect product!   \n",
      "4       5            Fabulous!   \n",
      "..    ...                  ...   \n",
      "95      5    Worth every penny   \n",
      "96      5        Great product   \n",
      "97      4          Good choice   \n",
      "98      5   Highly recommended   \n",
      "99      5    Worth every penny   \n",
      "\n",
      "                                          Full Review  \n",
      "0   The Best Phone for the Money\\n\\nThe iPhone 11 ...  \n",
      "1   Really satisfied with the Product I received.....  \n",
      "2   Great iPhone very snappy experience as apple k...  \n",
      "3   Amazing phone with great cameras and better ba...  \n",
      "4   This is my first iOS phone. I am very happy wi...  \n",
      "..                                                ...  \n",
      "95  Previously I was using one plus 3t it was a gr...  \n",
      "96  Amazing Powerful and Durable Gadget.\\n\\nI’m am...  \n",
      "97  So far it’s been an AMAZING experience coming ...  \n",
      "98  What a camera .....just awesome ..you can feel...  \n",
      "99  i11 is worthy to buy, too much happy with the ...  \n",
      "\n",
      "[100 rows x 3 columns]\n"
     ]
    }
   ],
   "source": [
    "start_page=0\n",
    "end_page=9\n",
    "rating_tags_value=[]\n",
    "summary_tags_value=[]\n",
    "full_review_value=[]\n",
    "time.sleep(5)\n",
    "for page in range(start_page,end_page+1): \n",
    "    rating_tags=driver.find_elements_by_xpath(\"//div[@class='_3LWZlK _1BLPMq']\")\n",
    "    # review_tags[0:100]\n",
    "    \n",
    "    for i in rating_tags:\n",
    "        rating=i.text\n",
    "        rating_tags_value.append(rating)\n",
    "        \n",
    "    summary_tags=driver.find_elements_by_xpath(\"//p[@class='_2-N8zT']\")\n",
    "    for i in summary_tags:\n",
    "        summary=i.text\n",
    "        summary_tags_value.append(summary)\n",
    "        \n",
    "    full_tags=driver.find_elements_by_xpath(\"//div[@class='t-ZTKy']\")\n",
    "    for i in full_tags:\n",
    "        review=i.text\n",
    "        full_review_value.append(review)\n",
    "    \n",
    "    if driver.find_element_by_xpath(\"//a[@class='_1LKTO3']\"):\n",
    "        driver.find_element_by_xpath(\"//a[@class='_1LKTO3']\").click()\n",
    "#     nxt_button=driver.find_element_by_xpath(\"//a[@class='_1LKTO3']\")\n",
    "#     nxt_button.click()\n",
    "    time.sleep(3)\n",
    "\n",
    "# print(len(rating_tags_value))\n",
    "# summary_tags_value[0:100]\n",
    "# rating_tags_value[0:100]\n",
    "df=pd.DataFrame({'Rating': rating_tags_value,\n",
    "                'Review Summary': summary_tags_value,\n",
    "                'Full Review': full_review_value})\n",
    "print(df)"
   ]
  },
  {
   "cell_type": "code",
   "execution_count": null,
   "id": "ade28894",
   "metadata": {},
   "outputs": [],
   "source": []
  }
 ],
 "metadata": {
  "kernelspec": {
   "display_name": "Python 3",
   "language": "python",
   "name": "python3"
  },
  "language_info": {
   "codemirror_mode": {
    "name": "ipython",
    "version": 3
   },
   "file_extension": ".py",
   "mimetype": "text/x-python",
   "name": "python",
   "nbconvert_exporter": "python",
   "pygments_lexer": "ipython3",
   "version": "3.8.8"
  }
 },
 "nbformat": 4,
 "nbformat_minor": 5
}
