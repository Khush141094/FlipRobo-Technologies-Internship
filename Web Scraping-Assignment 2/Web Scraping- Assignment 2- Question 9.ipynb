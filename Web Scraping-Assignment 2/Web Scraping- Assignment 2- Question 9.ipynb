{
 "cells": [
  {
   "cell_type": "code",
   "execution_count": 69,
   "id": "d85bdc56",
   "metadata": {},
   "outputs": [],
   "source": [
    "import selenium\n",
    "import pandas as pd\n",
    "from selenium import webdriver\n",
    "import time\n",
    "import warnings\n",
    "from selenium.common.exceptions import NoSuchElementException"
   ]
  },
  {
   "cell_type": "code",
   "execution_count": 75,
   "id": "f4cfcb88",
   "metadata": {},
   "outputs": [
    {
     "name": "stderr",
     "output_type": "stream",
     "text": [
      "<ipython-input-75-a7ddcbb7e08c>:1: DeprecationWarning: executable_path has been deprecated, please pass in a Service object\n",
      "  driver=webdriver.Chrome(r\"C:\\Users\\s0116731\\Downloads\\chromedriver_win32\\chromedriver.exe\")\n",
      "<ipython-input-75-a7ddcbb7e08c>:3: DeprecationWarning: find_element_by_xpath is deprecated. Please use find_element(by=By.XPATH, value=xpath) instead\n",
      "  driver.find_element_by_xpath(\"//a[@title='Jobs']\").click()\n",
      "<ipython-input-75-a7ddcbb7e08c>:4: DeprecationWarning: find_element_by_xpath is deprecated. Please use find_element(by=By.XPATH, value=xpath) instead\n",
      "  driver.find_element_by_xpath(\"//input[@type='search']\").send_keys(\"Data Scientist\")\n",
      "<ipython-input-75-a7ddcbb7e08c>:6: DeprecationWarning: find_element_by_xpath is deprecated. Please use find_element(by=By.XPATH, value=xpath) instead\n",
      "  driver.find_element_by_xpath(\"//button[@class='ab_btn search-btn round']\").click()\n",
      "<ipython-input-75-a7ddcbb7e08c>:9: DeprecationWarning: find_element_by_xpath is deprecated. Please use find_element(by=By.XPATH, value=xpath) instead\n",
      "  driver.find_element_by_xpath(\"//div[@title='Location']\").click()\n",
      "<ipython-input-75-a7ddcbb7e08c>:10: DeprecationWarning: find_element_by_xpath is deprecated. Please use find_element(by=By.XPATH, value=xpath) instead\n",
      "  driver.find_element_by_xpath(\"//input[@placeholder='Search locations']\").send_keys(\"Noida\")\n",
      "<ipython-input-75-a7ddcbb7e08c>:11: DeprecationWarning: find_element_by_xpath is deprecated. Please use find_element(by=By.XPATH, value=xpath) instead\n",
      "  driver.find_element_by_xpath(\"//label[@for='location_Noida']\").click()\n",
      "<ipython-input-75-a7ddcbb7e08c>:15: DeprecationWarning: find_elements_by_xpath is deprecated. Please use find_elements(by=By.XPATH, value=xpath) instead\n",
      "  company_name = driver.find_elements_by_xpath(\"//div[@class='company-info']//p[@class='company body-medium']\")\n",
      "<ipython-input-75-a7ddcbb7e08c>:22: DeprecationWarning: find_elements_by_xpath is deprecated. Please use find_elements(by=By.XPATH, value=xpath) instead\n",
      "  rating = driver.find_elements_by_xpath(\"//div[@class='rating-wrapper']//span[@class='body-small']\")\n",
      "<ipython-input-75-a7ddcbb7e08c>:28: DeprecationWarning: find_elements_by_xpath is deprecated. Please use find_elements(by=By.XPATH, value=xpath) instead\n",
      "  days = driver.find_elements_by_xpath(\"//div[@class='other-info']//span[@class='body-small-l']\")\n"
     ]
    },
    {
     "name": "stdout",
     "output_type": "stream",
     "text": [
      "                       Comapany name Rating Number of Days Ago\n",
      "0      GENPACT India Private Limited    4.0             5d ago\n",
      "1      GENPACT India Private Limited    4.0            10d ago\n",
      "2                  Tech Mahindra Ltd    3.7            24d ago\n",
      "3      GENPACT India Private Limited    4.0            27d ago\n",
      "4                   HCL Technologies    3.8           1mon ago\n",
      "5          Bristlecone India Limited    3.9             5d ago\n",
      "6                              Zyoin    4.1             9d ago\n",
      "7  Newgen Software Technologies Ltd.    3.5            11d ago\n",
      "8         Pitney Bowes India Pvt Ltd    4.3           1mon ago\n",
      "9                  JK Technosoft Ltd    3.6            20d ago\n"
     ]
    }
   ],
   "source": [
    "driver=webdriver.Chrome(r\"C:\\Users\\s0116731\\Downloads\\chromedriver_win32\\chromedriver.exe\")\n",
    "driver.get('https://www.ambitionbox.com/')\n",
    "driver.find_element_by_xpath(\"//a[@title='Jobs']\").click()\n",
    "driver.find_element_by_xpath(\"//input[@type='search']\").send_keys(\"Data Scientist\")\n",
    "\n",
    "driver.find_element_by_xpath(\"//button[@class='ab_btn search-btn round']\").click()\n",
    "\n",
    "time.sleep(5)\n",
    "driver.find_element_by_xpath(\"//div[@title='Location']\").click()\n",
    "driver.find_element_by_xpath(\"//input[@placeholder='Search locations']\").send_keys(\"Noida\")\n",
    "driver.find_element_by_xpath(\"//label[@for='location_Noida']\").click()\n",
    "\n",
    "time.sleep(3)\n",
    "company_names = []\n",
    "company_name = driver.find_elements_by_xpath(\"//div[@class='company-info']//p[@class='company body-medium']\")\n",
    "for i in company_name:\n",
    "    company_names.append(i.text)\n",
    "company_names[0:10]\n",
    "\n",
    "time.sleep(3)\n",
    "company_ratings = []\n",
    "rating = driver.find_elements_by_xpath(\"//div[@class='rating-wrapper']//span[@class='body-small']\")\n",
    "for i in rating:\n",
    "    company_ratings.append(i.text)\n",
    "company_ratings[0:10]\n",
    "\n",
    "days_ago = []\n",
    "days = driver.find_elements_by_xpath(\"//div[@class='other-info']//span[@class='body-small-l']\")\n",
    "for i in range(0,20,2):\n",
    "    days_ago.append(days[i].text)\n",
    "days_ago[0:10]\n",
    "\n",
    "df=pd.DataFrame({'Comapany name':company_names[:10],\n",
    "                'Rating':company_ratings[:10],\n",
    "                'Number of Days Ago':days_ago[:10]})\n",
    "\n",
    "print(df)"
   ]
  },
  {
   "cell_type": "code",
   "execution_count": null,
   "id": "6ffb9106",
   "metadata": {},
   "outputs": [],
   "source": []
  }
 ],
 "metadata": {
  "kernelspec": {
   "display_name": "Python 3",
   "language": "python",
   "name": "python3"
  },
  "language_info": {
   "codemirror_mode": {
    "name": "ipython",
    "version": 3
   },
   "file_extension": ".py",
   "mimetype": "text/x-python",
   "name": "python",
   "nbconvert_exporter": "python",
   "pygments_lexer": "ipython3",
   "version": "3.8.8"
  }
 },
 "nbformat": 4,
 "nbformat_minor": 5
}
